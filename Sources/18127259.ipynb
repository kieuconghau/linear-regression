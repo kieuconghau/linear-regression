{
 "cells": [
  {
   "cell_type": "code",
   "execution_count": 1,
   "metadata": {},
   "outputs": [],
   "source": [
    "import numpy as np\n",
    "import pandas as pd"
   ]
  },
  {
   "cell_type": "code",
   "execution_count": 2,
   "metadata": {},
   "outputs": [],
   "source": [
    "df = pd.read_csv(r'..\\Data\\wine.csv', sep=';')\n",
    "headers = list(df.columns.values)\n",
    "data = np.array(df)"
   ]
  },
  {
   "cell_type": "code",
   "execution_count": 4,
   "metadata": {},
   "outputs": [
    {
     "name": "stdout",
     "output_type": "stream",
     "text": [
      "x1 = 0.0059251613739160075\n",
      "x2 = -1.1080375422598763\n",
      "x3 = -0.26304628369886207\n",
      "x4 = 0.015322283066628407\n",
      "x5 = -1.7305027430592603\n",
      "x6 = 0.003801419076872639\n",
      "x7 = -0.003898998694544565\n",
      "x8 = 4.338587684504782\n",
      "x9 = -0.45853547521854976\n",
      "x10 = 0.7297186624705582\n",
      "x11 = 0.30885864844890126\n"
     ]
    }
   ],
   "source": [
    "# a. Sử dụng toàn bộ 11 đặc trưng đề bài cung cấp.\n",
    "def calc_x_hat(data):\n",
    "    A = data[:,:-1]\n",
    "    b = data[:,-1:].reshape(len(data),)\n",
    "    return np.linalg.pinv(A) @ b\n",
    "\n",
    "x_hat = calc_x_hat(data)\n",
    "for i in range(len(x_hat)):\n",
    "    print('x'+ str(i + 1) + ' = ' + str(x_hat[i]))"
   ]
  },
  {
   "cell_type": "code",
   "execution_count": 8,
   "metadata": {},
   "outputs": [
    {
     "name": "stdout",
     "output_type": "stream",
     "text": [
      "#1: alcohol (0.547671112842504)\n",
      "#2: density (0.7147989733781712)\n",
      "#3: pH (0.7426436192032513)\n",
      "#4: fixed acidity (1.07724212539448)\n",
      "#5: sulphates (1.0982698120183385)\n",
      "#6: volatile acidity (1.864347660175296)\n",
      "#7: residual sugar (2.014247435112465)\n",
      "#8: chlorides (2.1095866742816884)\n",
      "#9: citric acid (2.648583394468612)\n",
      "#10: free sulfur dioxide (2.843535296019925)\n",
      "#11: total sulfur dioxide (3.1392660467790603)\n"
     ]
    }
   ],
   "source": [
    "# b. Sử dụng duy nhất 1 đặc trưng cho kết quả tốt nhất. (Phương pháp Cross Validation)\n",
    "def sub_calc_avg_residual(train, test):\n",
    "    x_hat = calc_x_hat(train)\n",
    "    sum_residual = 0\n",
    "    \n",
    "    for i in range(len(test)):\n",
    "        est_quality = 0\n",
    "        for j in range(len(x_hat)):\n",
    "            est_quality += x_hat[j] * test[i][j]\n",
    "        sum_residual += np.abs(est_quality - test[i][-1])\n",
    "        \n",
    "    return sum_residual / len(test)\n",
    "\n",
    "\n",
    "def calc_avg_residual(data, model_num):\n",
    "    n = int(np.round(len(data) / model_num))\n",
    "    models = [data[i*n:i*n+n, :] for i in range(model_num-1)]\n",
    "    models.append(data[(model_num-1)*n:, :])\n",
    "\n",
    "    sum_avg_residual = 0\n",
    "    for i in range(model_num):\n",
    "        train = np.concatenate(models[:-1], axis=0)\n",
    "        test = models[-1]\n",
    "        sum_avg_residual += sub_calc_avg_residual(train, test)\n",
    "        \n",
    "        temp = models[-1]\n",
    "        models[-1] = models[i]\n",
    "        models[i] = temp\n",
    "    \n",
    "    return sum_avg_residual / model_num\n",
    "\n",
    "\n",
    "def cross_validation(data, model_num=4):\n",
    "    avg_residuals = []\n",
    "    \n",
    "    for i in range(len(data[0])-1):\n",
    "        sub_data = np.concatenate((data[:, i:i+1], data[:, -1:]), axis=1)\n",
    "        avg_residuals.append(calc_avg_residual(sub_data, model_num))\n",
    "    \n",
    "    return np.argsort(avg_residuals), np.sort(avg_residuals)\n",
    "\n",
    "\n",
    "indices, values = cross_validation(data)\n",
    "for i in range(len(indices)):\n",
    "    print('#' + str(i+1) + ': ' + headers[indices[i]] + ' (' + str(values[i]) + ')')"
   ]
  }
 ],
 "metadata": {
  "kernelspec": {
   "display_name": "Python 3",
   "language": "python",
   "name": "python3"
  },
  "language_info": {
   "codemirror_mode": {
    "name": "ipython",
    "version": 3
   },
   "file_extension": ".py",
   "mimetype": "text/x-python",
   "name": "python",
   "nbconvert_exporter": "python",
   "pygments_lexer": "ipython3",
   "version": "3.7.6"
  }
 },
 "nbformat": 4,
 "nbformat_minor": 4
}
