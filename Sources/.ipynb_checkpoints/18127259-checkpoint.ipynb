{
 "cells": [
  {
   "cell_type": "code",
   "execution_count": 49,
   "metadata": {},
   "outputs": [],
   "source": [
    "import numpy as np\n",
    "import pandas as pd"
   ]
  },
  {
   "cell_type": "code",
   "execution_count": 50,
   "metadata": {},
   "outputs": [],
   "source": [
    "df = pd.read_csv(r'..\\Data\\wine.csv', sep=';')"
   ]
  },
  {
   "cell_type": "code",
   "execution_count": 54,
   "metadata": {},
   "outputs": [
    {
     "name": "stdout",
     "output_type": "stream",
     "text": [
      "x1 = 0.0059251613739160075\n",
      "x2 = -1.1080375422598763\n",
      "x3 = -0.26304628369886207\n",
      "x4 = 0.015322283066628407\n",
      "x5 = -1.7305027430592603\n",
      "x6 = 0.003801419076872639\n",
      "x7 = -0.003898998694544565\n",
      "x8 = 4.338587684504782\n",
      "x9 = -0.45853547521854976\n",
      "x10 = 0.7297186624705582\n",
      "x11 = 0.30885864844890126\n"
     ]
    }
   ],
   "source": [
    "# a. Sử dụng toàn bộ 11 đặc trưng đề bài cung cấp.\n",
    "df = np.array(df)\n",
    "A = df[:,:-1]\n",
    "b = df[:,-1:].reshape(len(df),)\n",
    "x_hat = np.linalg.pinv(A) @ b\n",
    "\n",
    "for i in range(len(x_hat)):\n",
    "    print('x'+ str(i + 1) + ' = ' + str(x_hat[i]))"
   ]
  },
  {
   "cell_type": "code",
   "execution_count": null,
   "metadata": {},
   "outputs": [],
   "source": [
    "# b. Sử dụng duy nhất 1 đặc trưng cho kết quả tốt nhất. (Phương pháp Cross Validation)"
   ]
  }
 ],
 "metadata": {
  "kernelspec": {
   "display_name": "Python 3",
   "language": "python",
   "name": "python3"
  },
  "language_info": {
   "codemirror_mode": {
    "name": "ipython",
    "version": 3
   },
   "file_extension": ".py",
   "mimetype": "text/x-python",
   "name": "python",
   "nbconvert_exporter": "python",
   "pygments_lexer": "ipython3",
   "version": "3.7.6"
  }
 },
 "nbformat": 4,
 "nbformat_minor": 4
}
